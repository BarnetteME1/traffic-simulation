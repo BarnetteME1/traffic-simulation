{
 "cells": [
  {
   "cell_type": "code",
   "execution_count": 1,
   "metadata": {
    "collapsed": true
   },
   "outputs": [],
   "source": [
    "import matplotlib.pyplot as plt"
   ]
  },
  {
   "cell_type": "code",
   "execution_count": 2,
   "metadata": {
    "collapsed": true
   },
   "outputs": [],
   "source": [
    "%matplotlib inline"
   ]
  },
  {
   "cell_type": "code",
   "execution_count": 4,
   "metadata": {
    "collapsed": false
   },
   "outputs": [
    {
     "data": {
      "text/plain": [
       "<matplotlib.collections.PathCollection at 0x1129a29e8>"
      ]
     },
     "execution_count": 4,
     "metadata": {},
     "output_type": "execute_result"
    },
    {
     "data": {
      "image/png": "[encoded data removed]",
      "text/plain": [
       "<matplotlib.figure.Figure at 0x112938d30>"
      ]
     },
     "metadata": {},
     "output_type": "display_data"
    }
   ],
   "source": [
    "plt.scatter([0], [0])"
   ]
  },
  {
   "cell_type": "code",
   "execution_count": 8,
   "metadata": {
    "collapsed": false
   },
   "outputs": [
    {
     "data": {
      "text/plain": [
       "<matplotlib.collections.PathCollection at 0x112dc2b70>"
      ]
     },
     "execution_count": 8,
     "metadata": {},
     "output_type": "execute_result"
    },
    {
     "data": {
      "image/png": "[encoded data removed]",
      "text/plain": [
       "<matplotlib.figure.Figure at 0x112d1e7f0>"
      ]
     },
     "metadata": {},
     "output_type": "display_data"
    }
   ],
   "source": [
    "plt.scatter([5, 1], [0, 1])"
   ]
  },
  {
   "cell_type": "code",
   "execution_count": 10,
   "metadata": {
    "collapsed": false
   },
   "outputs": [
    {
     "data": {
      "text/plain": [
       "<matplotlib.collections.PathCollection at 0x112f47eb8>"
      ]
     },
     "execution_count": 10,
     "metadata": {},
     "output_type": "execute_result"
    },
    {
     "data": {
      "image/png": "[encoded data removed]",
      "text/plain": [
       "<matplotlib.figure.Figure at 0x112eab860>"
      ]
     },
     "metadata": {},
     "output_type": "display_data"
    }
   ],
   "source": [
    "plt.scatter([0, 5, 10, 15], [1, 1, 1, 1])"
   ]
  },
  {
   "cell_type": "code",
   "execution_count": 14,
   "metadata": {
    "collapsed": false
   },
   "outputs": [
    {
     "data": {
      "text/plain": [
       "<matplotlib.collections.PathCollection at 0x1132556a0>"
      ]
     },
     "execution_count": 14,
     "metadata": {},
     "output_type": "execute_result"
    },
    {
     "data": {
      "image/png": "[encoded data removed]",
      "text/plain": [
       "<matplotlib.figure.Figure at 0x1131015c0>"
      ]
     },
     "metadata": {},
     "output_type": "display_data"
    }
   ],
   "source": [
    "plt.scatter([[0, 5, 10, 15], [1, 6, 11, 16]],\n",
    "            [[1, 1, 1, 1],[2, 2, 2, 2]])"
   ]
  },
  {
   "cell_type": "code",
   "execution_count": 16,
   "metadata": {
    "collapsed": false
   },
   "outputs": [],
   "source": [
    "timeslaces = [[x] * 10 for x in range (120)]"
   ]
  },
  {
   "cell_type": "code",
   "execution_count": 17,
   "metadata": {
    "collapsed": false
   },
   "outputs": [
    {
     "data": {
      "text/plain": [
       "[[0, 0, 0, 0, 0, 0, 0, 0, 0, 0],\n",
       " [1, 1, 1, 1, 1, 1, 1, 1, 1, 1],\n",
       " [2, 2, 2, 2, 2, 2, 2, 2, 2, 2],\n",
       " [3, 3, 3, 3, 3, 3, 3, 3, 3, 3],\n",
       " [4, 4, 4, 4, 4, 4, 4, 4, 4, 4],\n",
       " [5, 5, 5, 5, 5, 5, 5, 5, 5, 5],\n",
       " [6, 6, 6, 6, 6, 6, 6, 6, 6, 6],\n",
       " [7, 7, 7, 7, 7, 7, 7, 7, 7, 7],\n",
       " [8, 8, 8, 8, 8, 8, 8, 8, 8, 8],\n",
       " [9, 9, 9, 9, 9, 9, 9, 9, 9, 9],\n",
       " [10, 10, 10, 10, 10, 10, 10, 10, 10, 10],\n",
       " [11, 11, 11, 11, 11, 11, 11, 11, 11, 11],\n",
       " [12, 12, 12, 12, 12, 12, 12, 12, 12, 12],\n",
       " [13, 13, 13, 13, 13, 13, 13, 13, 13, 13],\n",
       " [14, 14, 14, 14, 14, 14, 14, 14, 14, 14],\n",
       " [15, 15, 15, 15, 15, 15, 15, 15, 15, 15],\n",
       " [16, 16, 16, 16, 16, 16, 16, 16, 16, 16],\n",
       " [17, 17, 17, 17, 17, 17, 17, 17, 17, 17],\n",
       " [18, 18, 18, 18, 18, 18, 18, 18, 18, 18],\n",
       " [19, 19, 19, 19, 19, 19, 19, 19, 19, 19],\n",
       " [20, 20, 20, 20, 20, 20, 20, 20, 20, 20],\n",
       " [21, 21, 21, 21, 21, 21, 21, 21, 21, 21],\n",
       " [22, 22, 22, 22, 22, 22, 22, 22, 22, 22],\n",
       " [23, 23, 23, 23, 23, 23, 23, 23, 23, 23],\n",
       " [24, 24, 24, 24, 24, 24, 24, 24, 24, 24],\n",
       " [25, 25, 25, 25, 25, 25, 25, 25, 25, 25],\n",
       " [26, 26, 26, 26, 26, 26, 26, 26, 26, 26],\n",
       " [27, 27, 27, 27, 27, 27, 27, 27, 27, 27],\n",
       " [28, 28, 28, 28, 28, 28, 28, 28, 28, 28],\n",
       " [29, 29, 29, 29, 29, 29, 29, 29, 29, 29],\n",
       " [30, 30, 30, 30, 30, 30, 30, 30, 30, 30],\n",
       " [31, 31, 31, 31, 31, 31, 31, 31, 31, 31],\n",
       " [32, 32, 32, 32, 32, 32, 32, 32, 32, 32],\n",
       " [33, 33, 33, 33, 33, 33, 33, 33, 33, 33],\n",
       " [34, 34, 34, 34, 34, 34, 34, 34, 34, 34],\n",
       " [35, 35, 35, 35, 35, 35, 35, 35, 35, 35],\n",
       " [36, 36, 36, 36, 36, 36, 36, 36, 36, 36],\n",
       " [37, 37, 37, 37, 37, 37, 37, 37, 37, 37],\n",
       " [38, 38, 38, 38, 38, 38, 38, 38, 38, 38],\n",
       " [39, 39, 39, 39, 39, 39, 39, 39, 39, 39],\n",
       " [40, 40, 40, 40, 40, 40, 40, 40, 40, 40],\n",
       " [41, 41, 41, 41, 41, 41, 41, 41, 41, 41],\n",
       " [42, 42, 42, 42, 42, 42, 42, 42, 42, 42],\n",
       " [43, 43, 43, 43, 43, 43, 43, 43, 43, 43],\n",
       " [44, 44, 44, 44, 44, 44, 44, 44, 44, 44],\n",
       " [45, 45, 45, 45, 45, 45, 45, 45, 45, 45],\n",
       " [46, 46, 46, 46, 46, 46, 46, 46, 46, 46],\n",
       " [47, 47, 47, 47, 47, 47, 47, 47, 47, 47],\n",
       " [48, 48, 48, 48, 48, 48, 48, 48, 48, 48],\n",
       " [49, 49, 49, 49, 49, 49, 49, 49, 49, 49],\n",
       " [50, 50, 50, 50, 50, 50, 50, 50, 50, 50],\n",
       " [51, 51, 51, 51, 51, 51, 51, 51, 51, 51],\n",
       " [52, 52, 52, 52, 52, 52, 52, 52, 52, 52],\n",
       " [53, 53, 53, 53, 53, 53, 53, 53, 53, 53],\n",
       " [54, 54, 54, 54, 54, 54, 54, 54, 54, 54],\n",
       " [55, 55, 55, 55, 55, 55, 55, 55, 55, 55],\n",
       " [56, 56, 56, 56, 56, 56, 56, 56, 56, 56],\n",
       " [57, 57, 57, 57, 57, 57, 57, 57, 57, 57],\n",
       " [58, 58, 58, 58, 58, 58, 58, 58, 58, 58],\n",
       " [59, 59, 59, 59, 59, 59, 59, 59, 59, 59],\n",
       " [60, 60, 60, 60, 60, 60, 60, 60, 60, 60],\n",
       " [61, 61, 61, 61, 61, 61, 61, 61, 61, 61],\n",
       " [62, 62, 62, 62, 62, 62, 62, 62, 62, 62],\n",
       " [63, 63, 63, 63, 63, 63, 63, 63, 63, 63],\n",
       " [64, 64, 64, 64, 64, 64, 64, 64, 64, 64],\n",
       " [65, 65, 65, 65, 65, 65, 65, 65, 65, 65],\n",
       " [66, 66, 66, 66, 66, 66, 66, 66, 66, 66],\n",
       " [67, 67, 67, 67, 67, 67, 67, 67, 67, 67],\n",
       " [68, 68, 68, 68, 68, 68, 68, 68, 68, 68],\n",
       " [69, 69, 69, 69, 69, 69, 69, 69, 69, 69],\n",
       " [70, 70, 70, 70, 70, 70, 70, 70, 70, 70],\n",
       " [71, 71, 71, 71, 71, 71, 71, 71, 71, 71],\n",
       " [72, 72, 72, 72, 72, 72, 72, 72, 72, 72],\n",
       " [73, 73, 73, 73, 73, 73, 73, 73, 73, 73],\n",
       " [74, 74, 74, 74, 74, 74, 74, 74, 74, 74],\n",
       " [75, 75, 75, 75, 75, 75, 75, 75, 75, 75],\n",
       " [76, 76, 76, 76, 76, 76, 76, 76, 76, 76],\n",
       " [77, 77, 77, 77, 77, 77, 77, 77, 77, 77],\n",
       " [78, 78, 78, 78, 78, 78, 78, 78, 78, 78],\n",
       " [79, 79, 79, 79, 79, 79, 79, 79, 79, 79],\n",
       " [80, 80, 80, 80, 80, 80, 80, 80, 80, 80],\n",
       " [81, 81, 81, 81, 81, 81, 81, 81, 81, 81],\n",
       " [82, 82, 82, 82, 82, 82, 82, 82, 82, 82],\n",
       " [83, 83, 83, 83, 83, 83, 83, 83, 83, 83],\n",
       " [84, 84, 84, 84, 84, 84, 84, 84, 84, 84],\n",
       " [85, 85, 85, 85, 85, 85, 85, 85, 85, 85],\n",
       " [86, 86, 86, 86, 86, 86, 86, 86, 86, 86],\n",
       " [87, 87, 87, 87, 87, 87, 87, 87, 87, 87],\n",
       " [88, 88, 88, 88, 88, 88, 88, 88, 88, 88],\n",
       " [89, 89, 89, 89, 89, 89, 89, 89, 89, 89],\n",
       " [90, 90, 90, 90, 90, 90, 90, 90, 90, 90],\n",
       " [91, 91, 91, 91, 91, 91, 91, 91, 91, 91],\n",
       " [92, 92, 92, 92, 92, 92, 92, 92, 92, 92],\n",
       " [93, 93, 93, 93, 93, 93, 93, 93, 93, 93],\n",
       " [94, 94, 94, 94, 94, 94, 94, 94, 94, 94],\n",
       " [95, 95, 95, 95, 95, 95, 95, 95, 95, 95],\n",
       " [96, 96, 96, 96, 96, 96, 96, 96, 96, 96],\n",
       " [97, 97, 97, 97, 97, 97, 97, 97, 97, 97],\n",
       " [98, 98, 98, 98, 98, 98, 98, 98, 98, 98],\n",
       " [99, 99, 99, 99, 99, 99, 99, 99, 99, 99],\n",
       " [100, 100, 100, 100, 100, 100, 100, 100, 100, 100],\n",
       " [101, 101, 101, 101, 101, 101, 101, 101, 101, 101],\n",
       " [102, 102, 102, 102, 102, 102, 102, 102, 102, 102],\n",
       " [103, 103, 103, 103, 103, 103, 103, 103, 103, 103],\n",
       " [104, 104, 104, 104, 104, 104, 104, 104, 104, 104],\n",
       " [105, 105, 105, 105, 105, 105, 105, 105, 105, 105],\n",
       " [106, 106, 106, 106, 106, 106, 106, 106, 106, 106],\n",
       " [107, 107, 107, 107, 107, 107, 107, 107, 107, 107],\n",
       " [108, 108, 108, 108, 108, 108, 108, 108, 108, 108],\n",
       " [109, 109, 109, 109, 109, 109, 109, 109, 109, 109],\n",
       " [110, 110, 110, 110, 110, 110, 110, 110, 110, 110],\n",
       " [111, 111, 111, 111, 111, 111, 111, 111, 111, 111],\n",
       " [112, 112, 112, 112, 112, 112, 112, 112, 112, 112],\n",
       " [113, 113, 113, 113, 113, 113, 113, 113, 113, 113],\n",
       " [114, 114, 114, 114, 114, 114, 114, 114, 114, 114],\n",
       " [115, 115, 115, 115, 115, 115, 115, 115, 115, 115],\n",
       " [116, 116, 116, 116, 116, 116, 116, 116, 116, 116],\n",
       " [117, 117, 117, 117, 117, 117, 117, 117, 117, 117],\n",
       " [118, 118, 118, 118, 118, 118, 118, 118, 118, 118],\n",
       " [119, 119, 119, 119, 119, 119, 119, 119, 119, 119]]"
      ]
     },
     "execution_count": 17,
     "metadata": {},
     "output_type": "execute_result"
    }
   ],
   "source": [
    "timeslaces"
   ]
  },
  {
   "cell_type": "code",
   "execution_count": null,
   "metadata": {
    "collapsed": true
   },
   "outputs": [],
   "source": []
  }
 ],
 "metadata": {
  "kernelspec": {
   "display_name": "Python 3",
   "language": "python",
   "name": "python3"
  },
  "language_info": {
   "codemirror_mode": {
    "name": "ipython",
    "version": 3
   },
   "file_extension": ".py",
   "mimetype": "text/x-python",
   "name": "python",
   "nbconvert_exporter": "python",
   "pygments_lexer": "ipython3",
   "version": "3.5.0"
  }
 },
 "nbformat": 4,
 "nbformat_minor": 0
}
