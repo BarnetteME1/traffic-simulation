{
 "cells": [
  {
   "cell_type": "code",
   "execution_count": 3,
   "metadata": {
    "collapsed": false
   },
   "outputs": [],
   "source": [
    "\"\"\"Car:\n",
    "    *noun* = variables\n",
    "    ideal cruzing speed\n",
    "    % break chance\n",
    "    rate accelerate\n",
    "    current speed\n",
    "    \n",
    "    *verb* = functions\n",
    "    accelerate\n",
    "    decelerate\n",
    "    car in front\n",
    "    \n",
    "    *collaborator*\n",
    "    road\n",
    "    car in front\n",
    "    \"\"\"\n",
    "\n",
    "colour_list = [\"red\", \"blue\"]"
   ]
  },
  {
   "cell_type": "code",
   "execution_count": 151,
   "metadata": {
    "collapsed": false
   },
   "outputs": [],
   "source": [
    "import random\n",
    "import numpy as np\n",
    "import matplotlib.pyplot as plt\n",
    "\n",
    "class Car():\n",
    "    \n",
    "    def __init__(self, max_kph = 120, current_speed = 0, car_length = 5,\n",
    "                start_location = 0, in_front = None, course_length = 1000):\n",
    "        self.max_kph = max_kph\n",
    "        self.current_speed = current_speed\n",
    "        self.car_length = car_length\n",
    "        self.location = start_location\n",
    "        self.in_front = in_front\n",
    "        self.course_length = course_length\n",
    "    \n",
    "    @property\n",
    "    def move_forward(self):\n",
    "        self.change_velocity()\n",
    "        self.location += self.current_speed\n",
    "        if self.location > self.course_length:\n",
    "            self.location = self.course_length % 1000\n",
    "    \n",
    "    @property\n",
    "    def translate_max(self):\n",
    "        return self.max_kph / 3.6\n",
    "    \n",
    "    def accelerate(self):\n",
    "        if self.current_speed < self.translate_max:\n",
    "            self.current_speed += 2\n",
    "    \n",
    "    def can_decelerate(self):\n",
    "        if random.random() <= .1:\n",
    "            return True\n",
    "        return False\n",
    "    \n",
    "    def decelerate(self):\n",
    "        if self.current_speed > 0:\n",
    "            self.current_speed -= 2\n",
    "        \n",
    "    def change_velocity(self):\n",
    "        if self.too_close():\n",
    "            return self.breaks()\n",
    "        elif self.distance_check():\n",
    "            self.keep_distance()\n",
    "        elif self.can_decelerate():\n",
    "            self.decelerate()\n",
    "        else:\n",
    "            self.accelerate()\n",
    "            \n",
    "    def too_close(self):\n",
    "        future_location = self.location + self.current_speed + 6\n",
    "        if future_location > self.course_length:\n",
    "            future_location -= self.course_length\n",
    "        if future_location > self.in_front.location + self.in_front.current_speed + (self.course_length - 200):\n",
    "            return False\n",
    "        if future_location > self.in_front.location + self.in_front.current_speed:\n",
    "            return True\n",
    "        else:\n",
    "            return False\n",
    "        \n",
    "    def breaks(self):\n",
    "        self.current_speed = 0\n",
    "            \n",
    "    def distance_check(self):\n",
    "        distance = self.in_front.location - (self.location + 6)\n",
    "        if distance < 0:\n",
    "            distance += self.course_length\n",
    "        if distance <= self.current_speed:\n",
    "            return True\n",
    "        else:\n",
    "            return False\n",
    "            \n",
    "    def keep_distance(self):\n",
    "        self.current_speed = self.in_front.current_speed"
   ]
  },
  {
   "cell_type": "code",
   "execution_count": 147,
   "metadata": {
    "collapsed": true
   },
   "outputs": [],
   "source": [
    "class Road():\n",
    "    \n",
    "    def __init__(self, road_length = 1000):\n",
    "        self.road_length = road_length"
   ]
  },
  {
   "cell_type": "code",
   "execution_count": 148,
   "metadata": {
    "collapsed": false
   },
   "outputs": [],
   "source": [
    "class Simulation:\n",
    "    \n",
    "    def __init__(self, num_cars = 30, length = 1000):\n",
    "        self.num_cars = num_cars\n",
    "        self.length = length\n",
    "        self.cars = self.create_cars(self.num_cars)\n",
    "    \n",
    "    def create_cars(self, num_cars):\n",
    "        cars = []\n",
    "        locations = np.linspace(0, self.length - 33, num_cars)[::-1]\n",
    "        old_car = None\n",
    "        for num in range(num_cars):\n",
    "            new_car = Car(start_location = locations[num],\n",
    "                          in_front = old_car)\n",
    "            cars.append(new_car)\n",
    "            old_car = new_car\n",
    "            cars[0].in_front = cars[-1]\n",
    "        return cars\n",
    "    \n",
    "    def simulate(self):\n",
    "        for car in self.cars:\n",
    "            car.move_forward\n",
    "        \n",
    "            \n",
    "    def run_simulation(self, times = 60):\n",
    "        full_report = []\n",
    "        time_slace = []\n",
    "        for _ in range(times):\n",
    "            full_report.append(self.report)\n",
    "            time_slace = [[x] * len(self.cars) for x in range(times)]\n",
    "            self.simulate()\n",
    "        return full_report, time_slace\n",
    "    \n",
    "    @property\n",
    "    def report(self):\n",
    "        return [car.location for car in self.cars][::-1]\n",
    "    \n",
    "    def scatter(self, rounds = 60):\n",
    "        x, y = self.run_simulation(times = rounds)\n",
    "        return plt.scatter(x, y, c = [\"red\", \"blue\"], marker = \"|\")"
   ]
  },
  {
   "cell_type": "code",
   "execution_count": 95,
   "metadata": {
    "collapsed": false
   },
   "outputs": [],
   "source": [
    "simulation = Simulation()"
   ]
  },
  {
   "cell_type": "code",
   "execution_count": 36,
   "metadata": {
    "collapsed": true
   },
   "outputs": [],
   "source": [
    "% matplotlib inline"
   ]
  },
  {
   "cell_type": "code",
   "execution_count": 93,
   "metadata": {
    "collapsed": false
   },
   "outputs": [],
   "source": [
    "simulation.simulate()"
   ]
  },
  {
   "cell_type": "code",
   "execution_count": 94,
   "metadata": {
    "collapsed": false
   },
   "outputs": [
    {
     "name": "stdout",
     "output_type": "stream",
     "text": [
      "[516.0, 515.34482758620686, 516.68965517241372, 510.0344827586207, 581.37931034482756, 644.72413793103442, 658.06896551724139, 695.41379310344826, 804.75862068965512, 718.10344827586209, 771.44827586206895, 800.79310344827582, 746.13793103448279, 831.48275862068965, 860.82758620689651, 922.17241379310349, 923.51724137931035, 916.86206896551721, 830.20689655172418, 154, 164, 168, 238, 300, 320, 354, 370, 418, 480, 476]\n"
     ]
    }
   ],
   "source": [
    "print(simulation.report)"
   ]
  },
  {
   "cell_type": "code",
   "execution_count": 160,
   "metadata": {
    "collapsed": false
   },
   "outputs": [
    {
     "name": "stdout",
     "output_type": "stream",
     "text": [
      "<matplotlib.collections.PathCollection object at 0x113bd5dd8>\n",
      "[612.0, 618.38983050847457, 622.77966101694915, 647.16949152542372, 653.5593220338983, 663.94915254237287, 688.33898305084745, 696.72881355932202, 701.11864406779659, 721.50847457627117, 727.89830508474574, 742.28813559322032, 750.67796610169489, 771.06779661016958, 779.45762711864404, 787.84745762711873, 792.23728813559319, 796.62711864406788, 807.01694915254234, 811.40677966101703, 815.79661016949149, 820.18644067796617, 832.57627118644064, 840.96610169491532, 845.3559322033899, 849.74576271186447, 856.13559322033905, 864.52542372881362, 876.9152542372882, 881.30508474576277, 923.69491525423734, 944.08474576271192, 960.47457627118649, 966.86440677966107, 971.25423728813564, 999.64406779661022, 66, 74, 80, 184, 202, 210, 252, 252, 340, 358, 364, 408, 434, 442, 450, 462, 482, 490, 500, 506, 512, 546, 556, 568]\n"
     ]
    },
    {
     "data": {
      "image/png": "[encoded data removed]",
      "text/plain": [
       "<matplotlib.figure.Figure at 0x113d955f8>"
      ]
     },
     "metadata": {},
     "output_type": "display_data"
    }
   ],
   "source": [
    "simulation = Simulation(num_cars = 60)\n",
    "print(simulation.scatter(60))\n",
    "print(simulation.report)"
   ]
  },
  {
   "cell_type": "code",
   "execution_count": 51,
   "metadata": {
    "collapsed": false
   },
   "outputs": [
    {
     "data": {
      "text/plain": [
       "False"
      ]
     },
     "execution_count": 51,
     "metadata": {},
     "output_type": "execute_result"
    }
   ],
   "source": [
    "66 <= 39"
   ]
  },
  {
   "cell_type": "code",
   "execution_count": null,
   "metadata": {
    "collapsed": true
   },
   "outputs": [],
   "source": []
  }
 ],
 "metadata": {
  "kernelspec": {
   "display_name": "Python 3",
   "language": "python",
   "name": "python3"
  },
  "language_info": {
   "codemirror_mode": {
    "name": "ipython",
    "version": 3
   },
   "file_extension": ".py",
   "mimetype": "text/x-python",
   "name": "python",
   "nbconvert_exporter": "python",
   "pygments_lexer": "ipython3",
   "version": "3.5.0"
  }
 },
 "nbformat": 4,
 "nbformat_minor": 0
}
