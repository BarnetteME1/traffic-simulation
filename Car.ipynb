{
 "cells": [
  {
   "cell_type": "code",
   "execution_count": 428,
   "metadata": {
    "collapsed": false
   },
   "outputs": [],
   "source": [
    "import random\n",
    "import numpy as np\n",
    "import matplotlib.pyplot as plt\n",
    "% matplotlib inline\n",
    "\n",
    "class Car():\n",
    "    \n",
    "    def __init__(self, max_kph = 73, current_speed = 0, car_length = 5,\n",
    "                start_location = 0, in_front = None, course_length = 1000):\n",
    "        self.max_kph = max_kph\n",
    "        self.current_speed = current_speed\n",
    "        self.car_length = car_length\n",
    "        self.location = start_location\n",
    "        self.in_front = in_front\n",
    "        self.course_length = course_length\n",
    "    \n",
    "    @property\n",
    "    def move_forward(self):\n",
    "        self.change_velocity()\n",
    "        self.location += self.current_speed\n",
    "        if self.location > self.course_length:\n",
    "            self.location = self.course_length % 1000\n",
    "    \n",
    "    @property\n",
    "    def translate_max(self):\n",
    "        return self.max_kph / 3.6\n",
    "    \n",
    "    def accelerate(self):\n",
    "        if self.current_speed < self.translate_max:\n",
    "            self.current_speed += 2\n",
    "    \n",
    "    def can_decelerate(self):\n",
    "        if random.random() <= .1:\n",
    "            return True\n",
    "        return False\n",
    "    \n",
    "    def decelerate(self):\n",
    "        if self.current_speed > 0:\n",
    "            self.current_speed -= 2\n",
    "        \n",
    "    def change_velocity(self):\n",
    "        if self.too_close():\n",
    "            return self.breaks()\n",
    "        elif self.distance_check():\n",
    "            self.keep_distance()\n",
    "        elif self.can_decelerate():\n",
    "            self.decelerate()\n",
    "        else:\n",
    "            self.accelerate()\n",
    "            \n",
    "    def too_close(self):\n",
    "        future_location = self.location + self.current_speed + self.car_length + 2\n",
    "        if future_location > self.course_length:\n",
    "            future_location -= self.course_length\n",
    "        if future_location > self.in_front.location + self.in_front.current_speed + (\n",
    "            self.course_length - (self.course_length / 2)):\n",
    "            return False\n",
    "        if future_location > self.in_front.location + self.in_front.current_speed:\n",
    "            return True\n",
    "        else:\n",
    "            return False\n",
    "        \n",
    "    def breaks(self):\n",
    "        self.current_speed = 0\n",
    "            \n",
    "    def distance_check(self):\n",
    "        distance = self.in_front.location - (self.location + self.car_length + 2)\n",
    "        if distance < 0:\n",
    "            distance += self.course_length\n",
    "        if distance <= self.current_speed:\n",
    "            return True\n",
    "        else:\n",
    "            return False\n",
    "            \n",
    "    def keep_distance(self):\n",
    "        self.current_speed = self.in_front.current_speed"
   ]
  },
  {
   "cell_type": "code",
   "execution_count": 429,
   "metadata": {
    "collapsed": true
   },
   "outputs": [],
   "source": [
    "class Road():\n",
    "    \n",
    "    def __init__(self, road_length = 1000):\n",
    "        self.road_length = road_length"
   ]
  },
  {
   "cell_type": "code",
   "execution_count": 430,
   "metadata": {
    "collapsed": false
   },
   "outputs": [],
   "source": [
    "class Simulation:\n",
    "    \n",
    "    def __init__(self, num_cars = 30, length = 1000):\n",
    "        self.num_cars = num_cars\n",
    "        self.length = length\n",
    "        self.cars = self.create_cars(self.num_cars)\n",
    "    \n",
    "    def create_cars(self, num_cars):\n",
    "        cars = []\n",
    "        locations = np.linspace(0, self.length - 33, num_cars)[::-1]\n",
    "        old_car = None\n",
    "        for num in range(num_cars):\n",
    "            new_car = Car(start_location = locations[num],\n",
    "                          in_front = old_car)\n",
    "            cars.append(new_car)\n",
    "            old_car = new_car\n",
    "            cars[0].in_front = cars[-1]\n",
    "        return cars\n",
    "    \n",
    "    def simulate(self):\n",
    "        for car in self.cars:\n",
    "            car.move_forward\n",
    "        \n",
    "            \n",
    "    def run_simulation(self, times = 60):\n",
    "        full_report = []\n",
    "        time_slace = []\n",
    "        for _ in range(times):\n",
    "            full_report.append(self.report)\n",
    "            time_slace = [[x] * len(self.cars) for x in range(times)]\n",
    "            self.simulate()\n",
    "        return full_report, time_slace\n",
    "    \n",
    "    @property\n",
    "    def report(self):\n",
    "        return [int(car.location) for car in self.cars][::-1]\n",
    "    \n",
    "    def scatter(self, rounds = 60):\n",
    "        x, y = self.run_simulation(times = rounds)\n",
    "        return plt.scatter(x, y, c = [\"red\", \"blue\"], marker = \"|\")\n",
    "    \n",
    "    @property\n",
    "    def speed_report(self):\n",
    "        car_speeds = []\n",
    "        for car in self.cars:\n",
    "            car_speeds.append(car.current_speed)\n",
    "        return car_speeds"
   ]
  },
  {
   "cell_type": "code",
   "execution_count": 419,
   "metadata": {
    "collapsed": true
   },
   "outputs": [],
   "source": [
    "% matplotlib inline"
   ]
  },
  {
   "cell_type": "code",
   "execution_count": 420,
   "metadata": {
    "collapsed": false
   },
   "outputs": [
    {
     "name": "stdout",
     "output_type": "stream",
     "text": [
      "<matplotlib.collections.PathCollection object at 0x10acbd710>\n",
      "[852, 913, 918, 986, 995, 0, 20, 20, 78, 78, 100, 130, 196, 242, 352, 418, 438, 478, 496, 506, 530, 554, 564, 570, 592, 636, 700, 732, 786, 792]\n"
     ]
    },
    {
     "data": {
      "image/png": "[encoded data removed]",
      "text/plain": [
       "<matplotlib.figure.Figure at 0x10abbe358>"
      ]
     },
     "metadata": {},
     "output_type": "display_data"
    }
   ],
   "source": [
    "simulation = Simulation(num_cars = 30)\n",
    "print(simulation.scatter(60))\n",
    "print(simulation.report)"
   ]
  },
  {
   "cell_type": "markdown",
   "metadata": {},
   "source": [
    "The above graph is a representation of a one way street over sixty seconds where the speed-limit is 120 kph. As you can see there are a few traffic jams which happen. As you can see a few break out because the speed-limit is incorrect and people are having to stop too quickly because they are approaching the cars in front too fast and having to slam on the breaks"
   ]
  },
  {
   "cell_type": "code",
   "execution_count": 422,
   "metadata": {
    "collapsed": false
   },
   "outputs": [],
   "source": [
    "for _ in range(100000):\n",
    "    simulation = Simulation(num_cars = 30)\n",
    "    new_max_speed = []\n",
    "    simulation.run_simulation()\n",
    "    new_max_speed.append(np.mean(np.array(simulation.speed_report))+ np.std(np.array(simulation.speed_report)))"
   ]
  },
  {
   "cell_type": "code",
   "execution_count": 423,
   "metadata": {
    "collapsed": false
   },
   "outputs": [
    {
     "data": {
      "text/plain": [
       "[20.478440676382633]"
      ]
     },
     "execution_count": 423,
     "metadata": {},
     "output_type": "execute_result"
    }
   ],
   "source": [
    "new_max_speed"
   ]
  },
  {
   "cell_type": "markdown",
   "metadata": {},
   "source": [
    "The above formula and resulting numbers are what the new speed limit should be in meters per second. If you take that and convert it, the new speed limit should be around 73 kph."
   ]
  },
  {
   "cell_type": "code",
   "execution_count": 433,
   "metadata": {
    "collapsed": false
   },
   "outputs": [
    {
     "name": "stdout",
     "output_type": "stream",
     "text": [
      "<matplotlib.collections.PathCollection object at 0x10b0a2c18>\n",
      "[154, 190, 218, 218, 240, 284, 308, 346, 416, 416, 502, 522, 548, 548, 644, 670, 670, 718, 718, 818, 828, 892, 892, 892, 978, 998, 0, 66, 108, 108]\n"
     ]
    },
    {
     "data": {
      "image/png": "[encoded data removed]",
      "text/plain": [
       "<matplotlib.figure.Figure at 0x10b080978>"
      ]
     },
     "metadata": {},
     "output_type": "display_data"
    }
   ],
   "source": [
    "simulation = Simulation(num_cars = 30)\n",
    "print(simulation.scatter(60))\n",
    "print(simulation.report)"
   ]
  },
  {
   "cell_type": "markdown",
   "metadata": {},
   "source": [
    "And her we see traffic when it's set at 73 kph. It still isn't perfect with some cars getting close to others, but it overall is running much smoother and traffic has no major hold-ups."
   ]
  }
 ],
 "metadata": {
  "kernelspec": {
   "display_name": "Python 3",
   "language": "python",
   "name": "python3"
  },
  "language_info": {
   "codemirror_mode": {
    "name": "ipython",
    "version": 3
   },
   "file_extension": ".py",
   "mimetype": "text/x-python",
   "name": "python",
   "nbconvert_exporter": "python",
   "pygments_lexer": "ipython3",
   "version": "3.5.0"
  }
 },
 "nbformat": 4,
 "nbformat_minor": 0
}
