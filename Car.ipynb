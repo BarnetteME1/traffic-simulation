{
 "cells": [
  {
   "cell_type": "code",
   "execution_count": 4,
   "metadata": {
    "collapsed": false
   },
   "outputs": [],
   "source": [
    "\"\"\"Car:\n",
    "    *noun* = variables\n",
    "    ideal cruzing speed\n",
    "    % break chance\n",
    "    rate accelerate\n",
    "    current speed\n",
    "    \n",
    "    *verb* = functions\n",
    "    accelerate\n",
    "    decelerate\n",
    "    car in front\n",
    "    \n",
    "    *collaborator*\n",
    "    road\n",
    "    car in front\n",
    "    \"\"\"\n",
    "\n",
    "colour_list = [\"red\", \"white\", \"blue\"]"
   ]
  },
  {
   "cell_type": "code",
   "execution_count": 5,
   "metadata": {
    "collapsed": false
   },
   "outputs": [],
   "source": [
    "import random\n",
    "import numpy as np\n",
    "import matplotlib.pyplot as plt\n",
    "\n",
    "class Car():\n",
    "    \n",
    "    def __init__(self, max_kph = 120, current_speed = 0, car_length = 5,\n",
    "                start_location = 0, in_front = None, course_length = 1000):\n",
    "        self.max_kph = max_kph\n",
    "        self.current_speed = current_speed\n",
    "        self.car_length = car_length\n",
    "        self.location = start_location\n",
    "        self.in_front = in_front\n",
    "        self.course_length = course_length\n",
    "    \n",
    "    @property\n",
    "    def move_forward(self):\n",
    "        self.change_velocity()\n",
    "        self.location += self.current_speed\n",
    "        if self.location > self.course_length:\n",
    "            self.location = self.course_length % 1000\n",
    "    \n",
    "    @property\n",
    "    def translate_max(self):\n",
    "        return self.max_kph / 3.6\n",
    "    \n",
    "    def accelerate(self):\n",
    "        if self.current_speed < self.translate_max:\n",
    "            self.current_speed += 2\n",
    "    \n",
    "    def can_decelerate(self):\n",
    "        if random.random() <= .1:\n",
    "            return True\n",
    "        return False\n",
    "    \n",
    "    def decelerate(self):\n",
    "        if self.current_speed > 0:\n",
    "            self.current_speed -= 2\n",
    "        \n",
    "    def change_velocity(self):\n",
    "        if self.distance_check():\n",
    "            self.keep_distance()\n",
    "        if self.can_decelerate():\n",
    "            self.decelerate()\n",
    "        else:\n",
    "            self.accelerate()\n",
    "            \n",
    "    def distance_check(self):\n",
    "        if self.in_front.location <= self.location + self.current_speed + 6:\n",
    "            return True\n",
    "        return False\n",
    "            \n",
    "    def keep_distance(self):\n",
    "        self.current_speed = self.in_front.current_speed"
   ]
  },
  {
   "cell_type": "code",
   "execution_count": 6,
   "metadata": {
    "collapsed": true
   },
   "outputs": [],
   "source": [
    "class Road():\n",
    "    \n",
    "    def __init__(self, road_length = 1000):\n",
    "        self.road_length = road_length"
   ]
  },
  {
   "cell_type": "code",
   "execution_count": 72,
   "metadata": {
    "collapsed": false
   },
   "outputs": [],
   "source": [
    "class Simulation:\n",
    "    \n",
    "    def __init__(self, num_cars = 30, length = 1000):\n",
    "        self.num_cars = num_cars\n",
    "        self.length = length\n",
    "        self.cars = self.create_cars()\n",
    "    \n",
    "    def create_cars(self):\n",
    "        cars = []\n",
    "        locations = np.linspace(0, self.length - 33, self.num_cars)[::-1]\n",
    "        old_car = None\n",
    "        for num in range(self.num_cars):\n",
    "            new_car = Car(start_location = locations[num],\n",
    "                          in_front = old_car)\n",
    "            cars.append(new_car)\n",
    "            old_car = new_car\n",
    "            cars[0].in_front = cars[-1]\n",
    "        return cars\n",
    "    \n",
    "    def run_simulation(self, times = 60):\n",
    "        for _ in range(times):\n",
    "            self.simulate()\n",
    "        return [self.report]\n",
    "    \n",
    "    def simulate(self):\n",
    "        for car in self.cars:\n",
    "            car.move_forward\n",
    "    \n",
    "    @property\n",
    "    def report(self):\n",
    "        return [car.location for car in self.cars][::-1]\n",
    "    \n",
    "    def scatter(self, rounds = 60):\n",
    "        x = []\n",
    "        y = []\n",
    "        x.append(self.run_simulation(times = rounds))\n",
    "        y.append([rounds] * self.num_cars)\n",
    "        return plt.scatter(x, y)"
   ]
  },
  {
   "cell_type": "code",
   "execution_count": 45,
   "metadata": {
    "collapsed": false
   },
   "outputs": [
    {
     "data": {
      "image/png": "[encoded data removed]",
      "text/plain": [
       "<matplotlib.figure.Figure at 0x105f21160>"
      ]
     },
     "metadata": {},
     "output_type": "display_data"
    }
   ],
   "source": [
    "plt.scatter([[0, 5, 10, 15], [1, 6, 11, 16]],\n",
    "            [[1, 1, 1, 1],[2, 2, 2, 2]])\n",
    "timeslaces = [[x] * 10 for x in range (120)]"
   ]
  },
  {
   "cell_type": "code",
   "execution_count": 46,
   "metadata": {
    "collapsed": true
   },
   "outputs": [],
   "source": [
    "% matplotlib inline"
   ]
  },
  {
   "cell_type": "code",
   "execution_count": 73,
   "metadata": {
    "collapsed": false
   },
   "outputs": [],
   "source": [
    "sim = Simulation(num_cars = 5)"
   ]
  },
  {
   "cell_type": "code",
   "execution_count": 48,
   "metadata": {
    "collapsed": false
   },
   "outputs": [
    {
     "data": {
      "image/png": "[encoded data removed]",
      "text/plain": [
       "<matplotlib.figure.Figure at 0x105ad6828>"
      ]
     },
     "metadata": {},
     "output_type": "display_data"
    }
   ],
   "source": [
    "x1 = [\"2014 Q1\", \"2014 Q2\", \"2014 Q3\", \"2014 Q4\", \"2015 Q1\"]\n",
    "y1 = [400, 700, 1200, 2000, 2300]\n",
    "plt.scatter(range(5), y1)\n",
    "plt.xticks(range(5), x1)\n",
    "plt.xlabel(\"quarter\")\n",
    "plt.ylabel(\"dollar bills\")\n",
    "plt.title(\"Sales\")\n",
    "plt.show()"
   ]
  },
  {
   "cell_type": "code",
   "execution_count": 49,
   "metadata": {
    "collapsed": false
   },
   "outputs": [
    {
     "name": "stdout",
     "output_type": "stream",
     "text": [
      "[0.0, 241.75, 483.5, 725.25, 967.0]\n"
     ]
    }
   ],
   "source": [
    "print(sim.report)"
   ]
  },
  {
   "cell_type": "code",
   "execution_count": 75,
   "metadata": {
    "collapsed": false
   },
   "outputs": [
    {
     "name": "stdout",
     "output_type": "stream",
     "text": [
      "[[778, 0, 238, 474, 710]]\n"
     ]
    }
   ],
   "source": [
    "print(sim.run_simulation(times = 2))"
   ]
  },
  {
   "cell_type": "code",
   "execution_count": 74,
   "metadata": {
    "collapsed": false
   },
   "outputs": [
    {
     "name": "stdout",
     "output_type": "stream",
     "text": [
      "<matplotlib.collections.PathCollection object at 0x10616de80>\n"
     ]
    },
    {
     "data": {
      "image/png": "[encoded data removed]",
      "text/plain": [
       "<matplotlib.figure.Figure at 0x1060cd400>"
      ]
     },
     "metadata": {},
     "output_type": "display_data"
    }
   ],
   "source": [
    "print(sim.scatter())"
   ]
  },
  {
   "cell_type": "code",
   "execution_count": null,
   "metadata": {
    "collapsed": true
   },
   "outputs": [],
   "source": []
  }
 ],
 "metadata": {
  "kernelspec": {
   "display_name": "Python 3",
   "language": "python",
   "name": "python3"
  },
  "language_info": {
   "codemirror_mode": {
    "name": "ipython",
    "version": 3
   },
   "file_extension": ".py",
   "mimetype": "text/x-python",
   "name": "python",
   "nbconvert_exporter": "python",
   "pygments_lexer": "ipython3",
   "version": "3.5.0"
  }
 },
 "nbformat": 4,
 "nbformat_minor": 0
}
