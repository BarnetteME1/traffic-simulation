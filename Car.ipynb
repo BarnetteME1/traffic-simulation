{
 "cells": [
  {
   "cell_type": "code",
   "execution_count": 4,
   "metadata": {
    "collapsed": false
   },
   "outputs": [],
   "source": [
    "\"\"\"Car:\n",
    "    *noun* = variables\n",
    "    ideal cruzing speed\n",
    "    % break chance\n",
    "    rate accelerate\n",
    "    current speed\n",
    "    \n",
    "    *verb* = functions\n",
    "    accelerate\n",
    "    decelerate\n",
    "    car in front\n",
    "    \n",
    "    *collaborator*\n",
    "    road\n",
    "    car in front\n",
    "    \"\"\"\n",
    "\n",
    "colour_list = [\"red\", \"blue\"]"
   ]
  },
  {
   "cell_type": "code",
   "execution_count": 310,
   "metadata": {
    "collapsed": false
   },
   "outputs": [],
   "source": [
    "import random\n",
    "import numpy as np\n",
    "import matplotlib.pyplot as plt\n",
    "\n",
    "class Car():\n",
    "    \n",
    "    def __init__(self, max_kph = 120, current_speed = 0, car_length = 5,\n",
    "                start_location = 0, in_front = None, course_length = 1000):\n",
    "        self.max_kph = max_kph\n",
    "        self.current_speed = current_speed\n",
    "        self.car_length = car_length\n",
    "        self.location = start_location\n",
    "        self.in_front = in_front\n",
    "        self.course_length = course_length\n",
    "    \n",
    "    @property\n",
    "    def move_forward(self):\n",
    "        self.change_velocity()\n",
    "        self.location += self.current_speed\n",
    "        if self.location > self.course_length:\n",
    "            self.location = self.course_length % 1000\n",
    "    \n",
    "    @property\n",
    "    def translate_max(self):\n",
    "        return self.max_kph / 3.6\n",
    "    \n",
    "    def accelerate(self):\n",
    "        if self.current_speed < self.translate_max:\n",
    "            self.current_speed += 2\n",
    "    \n",
    "    def can_decelerate(self):\n",
    "        if random.random() <= .1:\n",
    "            return True\n",
    "        return False\n",
    "    \n",
    "    def decelerate(self):\n",
    "        if self.current_speed > 0:\n",
    "            self.current_speed -= 2\n",
    "        \n",
    "    def change_velocity(self):\n",
    "        if self.distance_check():\n",
    "            self.keep_distance()\n",
    "        elif self.can_decelerate():\n",
    "            self.decelerate()\n",
    "        else:\n",
    "            self.accelerate()\n",
    "            \n",
    "    def distance_check(self):\n",
    "        if int(self.location + self.current_speed + 6) >= int(self.in_front.location):\n",
    "            return True\n",
    "        else:\n",
    "            return False\n",
    "            \n",
    "    def keep_distance(self):\n",
    "        self.current_speed = self.in_front.current_speed"
   ]
  },
  {
   "cell_type": "code",
   "execution_count": 311,
   "metadata": {
    "collapsed": true
   },
   "outputs": [],
   "source": [
    "class Road():\n",
    "    \n",
    "    def __init__(self, road_length = 1000):\n",
    "        self.road_length = road_length"
   ]
  },
  {
   "cell_type": "code",
   "execution_count": 312,
   "metadata": {
    "collapsed": false
   },
   "outputs": [],
   "source": [
    "class Simulation:\n",
    "    \n",
    "    def __init__(self, num_cars = 30, length = 1000):\n",
    "        self.num_cars = num_cars\n",
    "        self.length = length\n",
    "        self.cars = self.create_cars(self.num_cars)\n",
    "    \n",
    "    def create_cars(self, num_cars = 30):\n",
    "        cars = []\n",
    "        locations = np.linspace(0, self.length - 33, num_cars)[::-1]\n",
    "        old_car = None\n",
    "        for num in range(num_cars):\n",
    "            new_car = Car(start_location = locations[num],\n",
    "                          in_front = old_car)\n",
    "            cars.append(new_car)\n",
    "            old_car = new_car\n",
    "            cars[0].in_front = cars[-1]\n",
    "        return cars\n",
    "    \n",
    "    def simulate(self):\n",
    "        for car in self.cars:\n",
    "            car.move_forward\n",
    "        \n",
    "            \n",
    "    def run_simulation(self, times = 60):\n",
    "        full_report = []\n",
    "        time_slace = []\n",
    "        for _ in range(times):\n",
    "            full_report.append(self.report)\n",
    "            time_slace = [[x] * len(self.cars) for x in range(times)]\n",
    "            self.simulate()\n",
    "        return full_report, time_slace\n",
    "    \n",
    "    @property\n",
    "    def report(self):\n",
    "        return [car.location for car in self.cars][::-1]\n",
    "    \n",
    "    def scatter(self, rounds = 60):\n",
    "        x, y = self.run_simulation(times = rounds)\n",
    "        return plt.scatter(x, y, c = [\"red\", \"blue\"], marker = \"|\")"
   ]
  },
  {
   "cell_type": "code",
   "execution_count": 301,
   "metadata": {
    "collapsed": false
   },
   "outputs": [],
   "source": [
    "simulation = Simulation()"
   ]
  },
  {
   "cell_type": "code",
   "execution_count": 130,
   "metadata": {
    "collapsed": true
   },
   "outputs": [],
   "source": [
    "% matplotlib inline"
   ]
  },
  {
   "cell_type": "code",
   "execution_count": 283,
   "metadata": {
    "collapsed": true
   },
   "outputs": [],
   "source": [
    "simulation.simulate()"
   ]
  },
  {
   "cell_type": "code",
   "execution_count": 286,
   "metadata": {
    "collapsed": false
   },
   "outputs": [
    {
     "name": "stdout",
     "output_type": "stream",
     "text": [
      "\n",
      " Car 544\n",
      "Car in front 578\n",
      "Car speed 34\n",
      "Car in front speed 34\n",
      "\n",
      " Car 496\n",
      "Car in front 544\n",
      "Car speed 34\n",
      "Car in front speed 34\n",
      "\n",
      " Car 496\n",
      "Car in front 496\n",
      "Car speed 34\n",
      "Car in front speed 34\n",
      "\n",
      " Car 496\n",
      "Car in front 496\n",
      "Car speed 34\n",
      "Car in front speed 34\n",
      "\n",
      " Car 496\n",
      "Car in front 496\n",
      "Car speed 34\n",
      "Car in front speed 34\n",
      "\n",
      " Car 476\n",
      "Car in front 496\n",
      "Car speed 34\n",
      "Car in front speed 34\n",
      "\n",
      " Car 476\n",
      "Car in front 476\n",
      "Car speed 34\n",
      "Car in front speed 34\n",
      "\n",
      " Car 332\n",
      "Car in front 476\n",
      "Car speed 34\n",
      "Car in front speed 34\n",
      "\n",
      " Car 262\n",
      "Car in front 332\n",
      "Car speed 32\n",
      "Car in front speed 34\n",
      "\n",
      " Car 164\n",
      "Car in front 262\n",
      "Car speed 30\n",
      "Car in front speed 32\n",
      "\n",
      " Car 164\n",
      "Car in front 164\n",
      "Car speed 30\n",
      "Car in front speed 30\n",
      "\n",
      " Car 164\n",
      "Car in front 164\n",
      "Car speed 30\n",
      "Car in front speed 30\n",
      "\n",
      " Car 136\n",
      "Car in front 164\n",
      "Car speed 34\n",
      "Car in front speed 30\n",
      "\n",
      " Car 68\n",
      "Car in front 136\n",
      "Car speed 34\n",
      "Car in front speed 34\n",
      "\n",
      " Car 68\n",
      "Car in front 68\n",
      "Car speed 34\n",
      "Car in front speed 34\n",
      "\n",
      " Car 68\n",
      "Car in front 68\n",
      "Car speed 34\n",
      "Car in front speed 34\n",
      "\n",
      " Car 914\n",
      "Car in front 68\n",
      "Car speed 34\n",
      "Car in front speed 34\n",
      "\n",
      " Car 914\n",
      "Car in front 914\n",
      "Car speed 34\n",
      "Car in front speed 34\n",
      "\n",
      " Car 914\n",
      "Car in front 914\n",
      "Car speed 34\n",
      "Car in front speed 34\n",
      "\n",
      " Car 914\n",
      "Car in front 914\n",
      "Car speed 34\n",
      "Car in front speed 34\n",
      "\n",
      " Car 880\n",
      "Car in front 914\n",
      "Car speed 34\n",
      "Car in front speed 34\n",
      "\n",
      " Car 880\n",
      "Car in front 880\n",
      "Car speed 34\n",
      "Car in front speed 34\n",
      "\n",
      " Car 880\n",
      "Car in front 880\n",
      "Car speed 34\n",
      "Car in front speed 34\n",
      "\n",
      " Car 842\n",
      "Car in front 880\n",
      "Car speed 34\n",
      "Car in front speed 34\n",
      "\n",
      " Car 814\n",
      "Car in front 842\n",
      "Car speed 34\n",
      "Car in front speed 34\n",
      "\n",
      " Car 644\n",
      "Car in front 814\n",
      "Car speed 34\n",
      "Car in front speed 34\n",
      "\n",
      " Car 644\n",
      "Car in front 644\n",
      "Car speed 34\n",
      "Car in front speed 34\n",
      "\n",
      " Car 644\n",
      "Car in front 644\n",
      "Car speed 34\n",
      "Car in front speed 34\n",
      "\n",
      " Car 578\n",
      "Car in front 644\n",
      "Car speed 34\n",
      "Car in front speed 34\n",
      "\n",
      " Car 578\n",
      "Car in front 578\n",
      "Car speed 34\n",
      "Car in front speed 34\n"
     ]
    }
   ],
   "source": [
    "for car in simulation.cars:\n",
    "    print(\"\\n Car\", car.location)\n",
    "    print(\"Car in front\", car.in_front.location)\n",
    "    print(\"Car speed\", car.current_speed)\n",
    "    print(\"Car in front speed\", car.in_front.current_speed)"
   ]
  },
  {
   "cell_type": "code",
   "execution_count": 314,
   "metadata": {
    "collapsed": false
   },
   "outputs": [
    {
     "name": "stdout",
     "output_type": "stream",
     "text": [
      "<matplotlib.collections.PathCollection object at 0x108957550>\n"
     ]
    },
    {
     "data": {
      "image/png": "[encoded data removed]",
      "text/plain": [
       "<matplotlib.figure.Figure at 0x108b2d860>"
      ]
     },
     "metadata": {},
     "output_type": "display_data"
    }
   ],
   "source": [
    "simulation = Simulation()\n",
    "print(simulation.scatter(60))"
   ]
  },
  {
   "cell_type": "code",
   "execution_count": null,
   "metadata": {
    "collapsed": true
   },
   "outputs": [],
   "source": []
  }
 ],
 "metadata": {
  "kernelspec": {
   "display_name": "Python 3",
   "language": "python",
   "name": "python3"
  },
  "language_info": {
   "codemirror_mode": {
    "name": "ipython",
    "version": 3
   },
   "file_extension": ".py",
   "mimetype": "text/x-python",
   "name": "python",
   "nbconvert_exporter": "python",
   "pygments_lexer": "ipython3",
   "version": "3.5.0"
  }
 },
 "nbformat": 4,
 "nbformat_minor": 0
}
